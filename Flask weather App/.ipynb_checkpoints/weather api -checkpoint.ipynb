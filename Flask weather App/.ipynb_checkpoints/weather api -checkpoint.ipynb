{
 "cells": [
  {
   "cell_type": "code",
   "execution_count": 2,
   "metadata": {},
   "outputs": [],
   "source": [
    "import requests\n"
   ]
  },
  {
   "cell_type": "code",
   "execution_count": 25,
   "metadata": {},
   "outputs": [
    {
     "name": "stdout",
     "output_type": "stream",
     "text": [
      "Enter city name :london\n"
     ]
    }
   ],
   "source": [
    "key=\"63823cbc5100cc9809fb0e1d14ebf946\"\n",
    "query=input(\"Enter city name :\")\n",
    "url=f\"http://api.openweathermap.org/data/2.5/weather?q={query}&appid={key}\"\n",
    "data=requests.get(url)\n"
   ]
  },
  {
   "cell_type": "code",
   "execution_count": 26,
   "metadata": {},
   "outputs": [
    {
     "data": {
      "text/plain": [
       "200"
      ]
     },
     "execution_count": 26,
     "metadata": {},
     "output_type": "execute_result"
    }
   ],
   "source": [
    "data.status_code"
   ]
  },
  {
   "cell_type": "code",
   "execution_count": 27,
   "metadata": {},
   "outputs": [
    {
     "data": {
      "text/plain": [
       "b'{\"coord\":{\"lon\":-0.13,\"lat\":51.51},\"weather\":[{\"id\":521,\"main\":\"Rain\",\"description\":\"shower rain\",\"icon\":\"09d\"}],\"base\":\"stations\",\"main\":{\"temp\":293.17,\"pressure\":1009,\"humidity\":88,\"temp_min\":289.82,\"temp_max\":296.48},\"visibility\":10000,\"wind\":{\"speed\":4.1},\"clouds\":{\"all\":75},\"dt\":1565001097,\"sys\":{\"type\":1,\"id\":1414,\"message\":0.0139,\"country\":\"GB\",\"sunrise\":1564979383,\"sunset\":1565034201},\"timezone\":3600,\"id\":2643743,\"name\":\"London\",\"cod\":200}'"
      ]
     },
     "execution_count": 27,
     "metadata": {},
     "output_type": "execute_result"
    }
   ],
   "source": [
    "data.content\n"
   ]
  },
  {
   "cell_type": "code",
   "execution_count": 28,
   "metadata": {},
   "outputs": [
    {
     "data": {
      "text/plain": [
       "{'coord': {'lon': -0.13, 'lat': 51.51},\n",
       " 'weather': [{'id': 521,\n",
       "   'main': 'Rain',\n",
       "   'description': 'shower rain',\n",
       "   'icon': '09d'}],\n",
       " 'base': 'stations',\n",
       " 'main': {'temp': 293.17,\n",
       "  'pressure': 1009,\n",
       "  'humidity': 88,\n",
       "  'temp_min': 289.82,\n",
       "  'temp_max': 296.48},\n",
       " 'visibility': 10000,\n",
       " 'wind': {'speed': 4.1},\n",
       " 'clouds': {'all': 75},\n",
       " 'dt': 1565001097,\n",
       " 'sys': {'type': 1,\n",
       "  'id': 1414,\n",
       "  'message': 0.0139,\n",
       "  'country': 'GB',\n",
       "  'sunrise': 1564979383,\n",
       "  'sunset': 1565034201},\n",
       " 'timezone': 3600,\n",
       " 'id': 2643743,\n",
       " 'name': 'London',\n",
       " 'cod': 200}"
      ]
     },
     "execution_count": 28,
     "metadata": {},
     "output_type": "execute_result"
    }
   ],
   "source": [
    "data.json()"
   ]
  },
  {
   "cell_type": "code",
   "execution_count": 11,
   "metadata": {},
   "outputs": [
    {
     "data": {
      "text/plain": [
       "'application/json; charset=utf-8'"
      ]
     },
     "execution_count": 11,
     "metadata": {},
     "output_type": "execute_result"
    }
   ],
   "source": [
    "data.headers['Content-Type']"
   ]
  },
  {
   "cell_type": "code",
   "execution_count": 29,
   "metadata": {},
   "outputs": [],
   "source": [
    "data=data.json()"
   ]
  },
  {
   "cell_type": "code",
   "execution_count": 30,
   "metadata": {},
   "outputs": [
    {
     "name": "stdout",
     "output_type": "stream",
     "text": [
      "coord\n",
      "weather\n",
      "base\n",
      "main\n",
      "visibility\n",
      "wind\n",
      "clouds\n",
      "dt\n",
      "sys\n",
      "timezone\n",
      "id\n",
      "name\n",
      "cod\n"
     ]
    }
   ],
   "source": [
    "print(*data.keys(),sep=\"\\n\")"
   ]
  },
  {
   "cell_type": "code",
   "execution_count": 31,
   "metadata": {},
   "outputs": [
    {
     "data": {
      "text/plain": [
       "[{'id': 521, 'main': 'Rain', 'description': 'shower rain', 'icon': '09d'}]"
      ]
     },
     "execution_count": 31,
     "metadata": {},
     "output_type": "execute_result"
    }
   ],
   "source": [
    "data['weather']"
   ]
  },
  {
   "cell_type": "code",
   "execution_count": 21,
   "metadata": {},
   "outputs": [
    {
     "data": {
      "text/plain": [
       "'Jaipur'"
      ]
     },
     "execution_count": 21,
     "metadata": {},
     "output_type": "execute_result"
    }
   ],
   "source": [
    "data['name']"
   ]
  },
  {
   "cell_type": "code",
   "execution_count": 33,
   "metadata": {},
   "outputs": [
    {
     "data": {
      "text/plain": [
       "{'temp': 293.17,\n",
       " 'pressure': 1009,\n",
       " 'humidity': 88,\n",
       " 'temp_min': 289.82,\n",
       " 'temp_max': 296.48}"
      ]
     },
     "execution_count": 33,
     "metadata": {},
     "output_type": "execute_result"
    }
   ],
   "source": [
    "data['main']"
   ]
  },
  {
   "cell_type": "code",
   "execution_count": null,
   "metadata": {},
   "outputs": [],
   "source": []
  }
 ],
 "metadata": {
  "kernelspec": {
   "display_name": "Python 3",
   "language": "python",
   "name": "python3"
  },
  "language_info": {
   "codemirror_mode": {
    "name": "ipython",
    "version": 3
   },
   "file_extension": ".py",
   "mimetype": "text/x-python",
   "name": "python",
   "nbconvert_exporter": "python",
   "pygments_lexer": "ipython3",
   "version": "3.7.0"
  }
 },
 "nbformat": 4,
 "nbformat_minor": 2
}
