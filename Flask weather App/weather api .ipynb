{
 "cells": [
  {
   "cell_type": "code",
   "execution_count": 73,
   "metadata": {},
   "outputs": [],
   "source": [
    "import requests\n",
    "import json\n"
   ]
  },
  {
   "cell_type": "code",
   "execution_count": 59,
   "metadata": {},
   "outputs": [
    {
     "name": "stdout",
     "output_type": "stream",
     "text": [
      "Enter city name :jaipur\n"
     ]
    }
   ],
   "source": [
    "key=\"63823cbc5100cc9809fb0e1d14ebf946\"\n",
    "query=input(\"Enter city name :\")\n",
    "url=f\"http://api.openweathermap.org/data/2.5/weather?q={query}&appid={key}\"\n",
    "data=requests.get(url)\n"
   ]
  },
  {
   "cell_type": "code",
   "execution_count": 60,
   "metadata": {},
   "outputs": [
    {
     "data": {
      "text/plain": [
       "200"
      ]
     },
     "execution_count": 60,
     "metadata": {},
     "output_type": "execute_result"
    }
   ],
   "source": [
    "data.status_code\n"
   ]
  },
  {
   "cell_type": "code",
   "execution_count": 61,
   "metadata": {},
   "outputs": [
    {
     "data": {
      "text/plain": [
       "b'{\"coord\":{\"lon\":75.82,\"lat\":26.92},\"weather\":[{\"id\":721,\"main\":\"Haze\",\"description\":\"haze\",\"icon\":\"50n\"}],\"base\":\"stations\",\"main\":{\"temp\":301.15,\"pressure\":996,\"humidity\":78,\"temp_min\":301.15,\"temp_max\":301.15},\"visibility\":3000,\"wind\":{\"speed\":3.6,\"deg\":270},\"clouds\":{\"all\":75},\"dt\":1565013471,\"sys\":{\"type\":1,\"id\":9170,\"message\":0.0066,\"country\":\"IN\",\"sunrise\":1564964571,\"sunset\":1565012560},\"timezone\":19800,\"id\":1269515,\"name\":\"Jaipur\",\"cod\":200}'"
      ]
     },
     "execution_count": 61,
     "metadata": {},
     "output_type": "execute_result"
    }
   ],
   "source": [
    "data.content\n"
   ]
  },
  {
   "cell_type": "code",
   "execution_count": 77,
   "metadata": {
    "scrolled": true
   },
   "outputs": [
    {
     "data": {
      "text/plain": [
       "{'temp': 301.15,\n",
       " 'pressure': 996,\n",
       " 'humidity': 78,\n",
       " 'temp_min': 301.15,\n",
       " 'temp_max': 301.15}"
      ]
     },
     "execution_count": 77,
     "metadata": {},
     "output_type": "execute_result"
    }
   ],
   "source": [
    "\n"
   ]
  },
  {
   "cell_type": "code",
   "execution_count": 37,
   "metadata": {},
   "outputs": [
    {
     "data": {
      "text/plain": [
       "{'coord': {'lon': 131.34, 'lat': 33.53},\n",
       " 'weather': [{'id': 803,\n",
       "   'main': 'Clouds',\n",
       "   'description': 'broken clouds',\n",
       "   'icon': '04n'}],\n",
       " 'base': 'stations',\n",
       " 'main': {'temp': 301.57,\n",
       "  'pressure': 1006,\n",
       "  'humidity': 100,\n",
       "  'temp_min': 298.71,\n",
       "  'temp_max': 303.15},\n",
       " 'visibility': 10000,\n",
       " 'wind': {'speed': 2.1, 'deg': 310},\n",
       " 'clouds': {'all': 75},\n",
       " 'dt': 1565004868,\n",
       " 'sys': {'type': 1,\n",
       "  'id': 8003,\n",
       "  'message': 0.0062,\n",
       "  'country': 'JP',\n",
       "  'sunrise': 1564950554,\n",
       "  'sunset': 1564999929},\n",
       " 'timezone': 32400,\n",
       " 'id': 1855757,\n",
       " 'name': 'Usa',\n",
       " 'cod': 200}"
      ]
     },
     "execution_count": 37,
     "metadata": {},
     "output_type": "execute_result"
    }
   ],
   "source": [
    "data.json()"
   ]
  },
  {
   "cell_type": "code",
   "execution_count": 38,
   "metadata": {},
   "outputs": [
    {
     "data": {
      "text/plain": [
       "'application/json; charset=utf-8'"
      ]
     },
     "execution_count": 38,
     "metadata": {},
     "output_type": "execute_result"
    }
   ],
   "source": [
    "data.headers['Content-Type']"
   ]
  },
  {
   "cell_type": "code",
   "execution_count": 39,
   "metadata": {},
   "outputs": [],
   "source": [
    "data=data.json()"
   ]
  },
  {
   "cell_type": "code",
   "execution_count": 40,
   "metadata": {},
   "outputs": [
    {
     "name": "stdout",
     "output_type": "stream",
     "text": [
      "coord\n",
      "weather\n",
      "base\n",
      "main\n",
      "visibility\n",
      "wind\n",
      "clouds\n",
      "dt\n",
      "sys\n",
      "timezone\n",
      "id\n",
      "name\n",
      "cod\n"
     ]
    }
   ],
   "source": [
    "print(*data.keys(),sep=\"\\n\")"
   ]
  },
  {
   "cell_type": "code",
   "execution_count": 41,
   "metadata": {},
   "outputs": [
    {
     "data": {
      "text/plain": [
       "[{'id': 803, 'main': 'Clouds', 'description': 'broken clouds', 'icon': '04n'}]"
      ]
     },
     "execution_count": 41,
     "metadata": {},
     "output_type": "execute_result"
    }
   ],
   "source": [
    "data['weather']"
   ]
  },
  {
   "cell_type": "code",
   "execution_count": 42,
   "metadata": {},
   "outputs": [
    {
     "data": {
      "text/plain": [
       "'Usa'"
      ]
     },
     "execution_count": 42,
     "metadata": {},
     "output_type": "execute_result"
    }
   ],
   "source": [
    "data['name']"
   ]
  },
  {
   "cell_type": "code",
   "execution_count": 43,
   "metadata": {},
   "outputs": [
    {
     "data": {
      "text/plain": [
       "{'temp': 301.57,\n",
       " 'pressure': 1006,\n",
       " 'humidity': 100,\n",
       " 'temp_min': 298.71,\n",
       " 'temp_max': 303.15}"
      ]
     },
     "execution_count": 43,
     "metadata": {},
     "output_type": "execute_result"
    }
   ],
   "source": [
    "data['main']"
   ]
  },
  {
   "cell_type": "code",
   "execution_count": 54,
   "metadata": {},
   "outputs": [
    {
     "data": {
      "text/plain": [
       "['sparsh', 'jain']"
      ]
     },
     "execution_count": 54,
     "metadata": {},
     "output_type": "execute_result"
    }
   ],
   "source": [
    "dat={'sparsh':'jain'}\n",
    "x=dat.items()\n",
    "x=list(x)\n",
    "list(x[0])"
   ]
  },
  {
   "cell_type": "code",
   "execution_count": null,
   "metadata": {},
   "outputs": [],
   "source": []
  }
 ],
 "metadata": {
  "kernelspec": {
   "display_name": "Python 3",
   "language": "python",
   "name": "python3"
  },
  "language_info": {
   "codemirror_mode": {
    "name": "ipython",
    "version": 3
   },
   "file_extension": ".py",
   "mimetype": "text/x-python",
   "name": "python",
   "nbconvert_exporter": "python",
   "pygments_lexer": "ipython3",
   "version": "3.7.0"
  }
 },
 "nbformat": 4,
 "nbformat_minor": 2
}
